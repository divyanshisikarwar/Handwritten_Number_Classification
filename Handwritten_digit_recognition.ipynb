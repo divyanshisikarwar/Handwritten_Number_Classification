{
 "cells": [
  {
   "cell_type": "markdown",
   "id": "bb3b27ef-8ca5-43a9-8d48-7e83583078f2",
   "metadata": {},
   "source": [
    "  IMPORTING NECESSARY LIBRARIES \n"
   ]
  },
  {
   "cell_type": "code",
   "execution_count": 3,
   "id": "7086396a-64ad-4b27-a800-aa709a6ba95c",
   "metadata": {},
   "outputs": [],
   "source": [
    "import numpy as np\n",
    "import matplotlib.pyplot as plt\n",
    "from tensorflow.keras.datasets import mnist\n",
    "from tensorflow.keras.models import Sequential\n",
    "from tensorflow.keras.layers import Conv2D, MaxPooling2D, Flatten, Dense\n",
    "from tensorflow.keras.utils import to_categorical\n",
    "import tensorflow as tf"
   ]
  },
  {
   "cell_type": "markdown",
   "id": "0f831fcc-18f2-455f-9c48-c9554bcedf44",
   "metadata": {},
   "source": [
    "LOADING : ''MNIST DATASET''\n",
    "Containig Training samples = 60,000 ; Testing Samples = 10,000\n",
    "Tesnsorflow already contains MNIST data set which can be loades uding Keras"
   ]
  },
  {
   "cell_type": "code",
   "execution_count": 4,
   "id": "0535e89d-9d7e-4b1e-8280-c7abb01b7ff9",
   "metadata": {},
   "outputs": [],
   "source": [
    "mnist = tf.keras.datasets.mnist ##this is basically handwritten characters based on 28 x 28 sized images of 0 to 9 ."
   ]
  },
  {
   "cell_type": "markdown",
   "id": "c5fd44d5-a477-40c3-9e33-cd332f50f27c",
   "metadata": {},
   "source": [
    "AFTER LOADING THE MNIST DATA , DIVIDE INTO TRAIN AND TEST DATA SETS"
   ]
  },
  {
   "cell_type": "code",
   "execution_count": 5,
   "id": "a225ad89-2457-4fb6-b9c7-3e8fa55b0e87",
   "metadata": {},
   "outputs": [
    {
     "name": "stdout",
     "output_type": "stream",
     "text": [
      "Downloading data from https://storage.googleapis.com/tensorflow/tf-keras-datasets/mnist.npz\n",
      "11490434/11490434 [==============================] - 4s 0us/step\n"
     ]
    }
   ],
   "source": [
    "## unpacking the dataset into train and test datasets \n",
    "(x_train , y_train) , (x_test , y_test) = mnist.load_data()"
   ]
  },
  {
   "cell_type": "code",
   "execution_count": 6,
   "id": "f30c6f43-db20-4b2e-8214-1ff231e0ded0",
   "metadata": {},
   "outputs": [
    {
     "data": {
      "text/plain": [
       "(60000, 28, 28)"
      ]
     },
     "execution_count": 6,
     "metadata": {},
     "output_type": "execute_result"
    }
   ],
   "source": [
    "x_train.shape"
   ]
  },
  {
   "cell_type": "code",
   "execution_count": 8,
   "id": "26a6dbcc-edd2-48a5-9065-b40234d9633c",
   "metadata": {},
   "outputs": [
    {
     "data": {
      "image/png": "[encoded data removed]",
      "text/plain": [
       "<Figure size 640x480 with 1 Axes>"
      ]
     },
     "metadata": {},
     "output_type": "display_data"
    },
    {
     "data": {
      "text/plain": [
       "<matplotlib.image.AxesImage at 0x1d1aba44c70>"
      ]
     },
     "execution_count": 8,
     "metadata": {},
     "output_type": "execute_result"
    },
    {
     "data": {
      "image/png": "[encoded data removed]",
      "text/plain": [
       "<Figure size 640x480 with 1 Axes>"
      ]
     },
     "metadata": {},
     "output_type": "display_data"
    }
   ],
   "source": [
    "## just check the graph, how data looks like\n",
    "plt.imshow(x_train[0])\n",
    "plt.show() ## inorder to execute the graph\n",
    "## however we dont knoe nthe image is colored or binary \n",
    "## so inorder to plot it change the configuration\n",
    "plt.imshow(x_train[0] , cmap = plt.cm.binary)"
   ]
  },
  {
   "cell_type": "raw",
   "id": "c2437a12-57eb-48bf-ac6f-f4dedbf8d9f0",
   "metadata": {},
   "source": [
    "CHECKING THE VALUES OF EACH PIXEL , BEFORE NORMALIZATION"
   ]
  },
  {
   "cell_type": "code",
   "execution_count": 9,
   "id": "31de0cd0-6188-49a1-9208-d83042e07a53",
   "metadata": {},
   "outputs": [
    {
     "name": "stdout",
     "output_type": "stream",
     "text": [
      "[[  0   0   0   0   0   0   0   0   0   0   0   0   0   0   0   0   0   0\n",
      "    0   0   0   0   0   0   0   0   0   0]\n",
      " [  0   0   0   0   0   0   0   0   0   0   0   0   0   0   0   0   0   0\n",
      "    0   0   0   0   0   0   0   0   0   0]\n",
      " [  0   0   0   0   0   0   0   0   0   0   0   0   0   0   0   0   0   0\n",
      "    0   0   0   0   0   0   0   0   0   0]\n",
      " [  0   0   0   0   0   0   0   0   0   0   0   0   0   0   0   0   0   0\n",
      "    0   0   0   0   0   0   0   0   0   0]\n",
      " [  0   0   0   0   0   0   0   0   0   0   0   0   0   0   0   0   0   0\n",
      "    0   0   0   0   0   0   0   0   0   0]\n",
      " [  0   0   0   0   0   0   0   0   0   0   0   0   3  18  18  18 126 136\n",
      "  175  26 166 255 247 127   0   0   0   0]\n",
      " [  0   0   0   0   0   0   0   0  30  36  94 154 170 253 253 253 253 253\n",
      "  225 172 253 242 195  64   0   0   0   0]\n",
      " [  0   0   0   0   0   0   0  49 238 253 253 253 253 253 253 253 253 251\n",
      "   93  82  82  56  39   0   0   0   0   0]\n",
      " [  0   0   0   0   0   0   0  18 219 253 253 253 253 253 198 182 247 241\n",
      "    0   0   0   0   0   0   0   0   0   0]\n",
      " [  0   0   0   0   0   0   0   0  80 156 107 253 253 205  11   0  43 154\n",
      "    0   0   0   0   0   0   0   0   0   0]\n",
      " [  0   0   0   0   0   0   0   0   0  14   1 154 253  90   0   0   0   0\n",
      "    0   0   0   0   0   0   0   0   0   0]\n",
      " [  0   0   0   0   0   0   0   0   0   0   0 139 253 190   2   0   0   0\n",
      "    0   0   0   0   0   0   0   0   0   0]\n",
      " [  0   0   0   0   0   0   0   0   0   0   0  11 190 253  70   0   0   0\n",
      "    0   0   0   0   0   0   0   0   0   0]\n",
      " [  0   0   0   0   0   0   0   0   0   0   0   0  35 241 225 160 108   1\n",
      "    0   0   0   0   0   0   0   0   0   0]\n",
      " [  0   0   0   0   0   0   0   0   0   0   0   0   0  81 240 253 253 119\n",
      "   25   0   0   0   0   0   0   0   0   0]\n",
      " [  0   0   0   0   0   0   0   0   0   0   0   0   0   0  45 186 253 253\n",
      "  150  27   0   0   0   0   0   0   0   0]\n",
      " [  0   0   0   0   0   0   0   0   0   0   0   0   0   0   0  16  93 252\n",
      "  253 187   0   0   0   0   0   0   0   0]\n",
      " [  0   0   0   0   0   0   0   0   0   0   0   0   0   0   0   0   0 249\n",
      "  253 249  64   0   0   0   0   0   0   0]\n",
      " [  0   0   0   0   0   0   0   0   0   0   0   0   0   0  46 130 183 253\n",
      "  253 207   2   0   0   0   0   0   0   0]\n",
      " [  0   0   0   0   0   0   0   0   0   0   0   0  39 148 229 253 253 253\n",
      "  250 182   0   0   0   0   0   0   0   0]\n",
      " [  0   0   0   0   0   0   0   0   0   0  24 114 221 253 253 253 253 201\n",
      "   78   0   0   0   0   0   0   0   0   0]\n",
      " [  0   0   0   0   0   0   0   0  23  66 213 253 253 253 253 198  81   2\n",
      "    0   0   0   0   0   0   0   0   0   0]\n",
      " [  0   0   0   0   0   0  18 171 219 253 253 253 253 195  80   9   0   0\n",
      "    0   0   0   0   0   0   0   0   0   0]\n",
      " [  0   0   0   0  55 172 226 253 253 253 253 244 133  11   0   0   0   0\n",
      "    0   0   0   0   0   0   0   0   0   0]\n",
      " [  0   0   0   0 136 253 253 253 212 135 132  16   0   0   0   0   0   0\n",
      "    0   0   0   0   0   0   0   0   0   0]\n",
      " [  0   0   0   0   0   0   0   0   0   0   0   0   0   0   0   0   0   0\n",
      "    0   0   0   0   0   0   0   0   0   0]\n",
      " [  0   0   0   0   0   0   0   0   0   0   0   0   0   0   0   0   0   0\n",
      "    0   0   0   0   0   0   0   0   0   0]\n",
      " [  0   0   0   0   0   0   0   0   0   0   0   0   0   0   0   0   0   0\n",
      "    0   0   0   0   0   0   0   0   0   0]]\n"
     ]
    }
   ],
   "source": [
    "print(x_train[0]) ## before normalization"
   ]
  },
  {
   "cell_type": "markdown",
   "id": "5f8f1a6e-0bca-44a4-b8c2-0e6d8910a0ed",
   "metadata": {},
   "source": [
    "AS IMAGES ARE IN GREY LEVEL ( 1 CHANNEL ==> 0 T0 255 ), NOT COLORED(RGB)\n",
    "NORMALIZING THE DATA // PREPROCESSINVG STEP"
   ]
  },
  {
   "cell_type": "code",
   "execution_count": 10,
   "id": "885dc76a-4b81-4402-b98a-533e38320856",
   "metadata": {},
   "outputs": [
    {
     "data": {
      "text/plain": [
       "<matplotlib.image.AxesImage at 0x1d1b13fd6c0>"
      ]
     },
     "execution_count": 10,
     "metadata": {},
     "output_type": "execute_result"
    },
    {
     "data": {
      "image/png": "[encoded data removed]",
      "text/plain": [
       "<Figure size 640x480 with 1 Axes>"
      ]
     },
     "metadata": {},
     "output_type": "display_data"
    }
   ],
   "source": [
    "x_train = tf.keras.utils.normalize(x_train , axis = 1)\n",
    "x_test = tf.keras.utils.normalize(x_test , axis = 1)\n",
    "plt.imshow(x_train[0], cmap=plt.cm.binary)"
   ]
  },
  {
   "cell_type": "raw",
   "id": "06ca13c1-832c-4c72-a9d3-b4cae12dd46c",
   "metadata": {},
   "source": [
    "AFTER NORMALIZATION"
   ]
  },
  {
   "cell_type": "code",
   "execution_count": 11,
   "id": "a2550eb3-e64e-46f0-a97e-677f67df5fe1",
   "metadata": {},
   "outputs": [
    {
     "name": "stdout",
     "output_type": "stream",
     "text": [
      "[[0.         0.         0.         0.         0.         0.\n",
      "  0.         0.         0.         0.         0.         0.\n",
      "  0.         0.         0.         0.         0.         0.\n",
      "  0.         0.         0.         0.         0.         0.\n",
      "  0.         0.         0.         0.        ]\n",
      " [0.         0.         0.         0.         0.         0.\n",
      "  0.         0.         0.         0.         0.         0.\n",
      "  0.         0.         0.         0.         0.         0.\n",
      "  0.         0.         0.         0.         0.         0.\n",
      "  0.         0.         0.         0.        ]\n",
      " [0.         0.         0.         0.         0.         0.\n",
      "  0.         0.         0.         0.         0.         0.\n",
      "  0.         0.         0.         0.         0.         0.\n",
      "  0.         0.         0.         0.         0.         0.\n",
      "  0.         0.         0.         0.        ]\n",
      " [0.         0.         0.         0.         0.         0.\n",
      "  0.         0.         0.         0.         0.         0.\n",
      "  0.         0.         0.         0.         0.         0.\n",
      "  0.         0.         0.         0.         0.         0.\n",
      "  0.         0.         0.         0.        ]\n",
      " [0.         0.         0.         0.         0.         0.\n",
      "  0.         0.         0.         0.         0.         0.\n",
      "  0.         0.         0.         0.         0.         0.\n",
      "  0.         0.         0.         0.         0.         0.\n",
      "  0.         0.         0.         0.        ]\n",
      " [0.         0.         0.         0.         0.         0.\n",
      "  0.         0.         0.         0.         0.         0.\n",
      "  0.00393124 0.02332955 0.02620568 0.02625207 0.17420356 0.17566281\n",
      "  0.28629534 0.05664824 0.51877786 0.71632322 0.77892406 0.89301644\n",
      "  0.         0.         0.         0.        ]\n",
      " [0.         0.         0.         0.         0.         0.\n",
      "  0.         0.         0.05780486 0.06524513 0.16128198 0.22713296\n",
      "  0.22277047 0.32790981 0.36833534 0.3689874  0.34978968 0.32678448\n",
      "  0.368094   0.3747499  0.79066747 0.67980478 0.61494005 0.45002403\n",
      "  0.         0.         0.         0.        ]\n",
      " [0.         0.         0.         0.         0.         0.\n",
      "  0.         0.12250613 0.45858525 0.45852825 0.43408872 0.37314701\n",
      "  0.33153488 0.32790981 0.36833534 0.3689874  0.34978968 0.32420121\n",
      "  0.15214552 0.17865984 0.25626376 0.1573102  0.12298801 0.\n",
      "  0.         0.         0.         0.        ]\n",
      " [0.         0.         0.         0.         0.         0.\n",
      "  0.         0.04500225 0.4219755  0.45852825 0.43408872 0.37314701\n",
      "  0.33153488 0.32790981 0.28826244 0.26543758 0.34149427 0.31128482\n",
      "  0.         0.         0.         0.         0.         0.\n",
      "  0.         0.         0.         0.        ]\n",
      " [0.         0.         0.         0.         0.         0.\n",
      "  0.         0.         0.1541463  0.28272888 0.18358693 0.37314701\n",
      "  0.33153488 0.26569767 0.01601458 0.         0.05945042 0.19891229\n",
      "  0.         0.         0.         0.         0.         0.\n",
      "  0.         0.         0.         0.        ]\n",
      " [0.         0.         0.         0.         0.         0.\n",
      "  0.         0.         0.         0.0253731  0.00171577 0.22713296\n",
      "  0.33153488 0.11664776 0.         0.         0.         0.\n",
      "  0.         0.         0.         0.         0.         0.\n",
      "  0.         0.         0.         0.        ]\n",
      " [0.         0.         0.         0.         0.         0.\n",
      "  0.         0.         0.         0.         0.         0.20500962\n",
      "  0.33153488 0.24625638 0.00291174 0.         0.         0.\n",
      "  0.         0.         0.         0.         0.         0.\n",
      "  0.         0.         0.         0.        ]\n",
      " [0.         0.         0.         0.         0.         0.\n",
      "  0.         0.         0.         0.         0.         0.01622378\n",
      "  0.24897876 0.32790981 0.10191096 0.         0.         0.\n",
      "  0.         0.         0.         0.         0.         0.\n",
      "  0.         0.         0.         0.        ]\n",
      " [0.         0.         0.         0.         0.         0.\n",
      "  0.         0.         0.         0.         0.         0.\n",
      "  0.04586451 0.31235677 0.32757096 0.23335172 0.14931733 0.00129164\n",
      "  0.         0.         0.         0.         0.         0.\n",
      "  0.         0.         0.         0.        ]\n",
      " [0.         0.         0.         0.         0.         0.\n",
      "  0.         0.         0.         0.         0.         0.\n",
      "  0.         0.10498298 0.34940902 0.3689874  0.34978968 0.15370495\n",
      "  0.04089933 0.         0.         0.         0.         0.\n",
      "  0.         0.         0.         0.        ]\n",
      " [0.         0.         0.         0.         0.         0.\n",
      "  0.         0.         0.         0.         0.         0.\n",
      "  0.         0.         0.06551419 0.27127137 0.34978968 0.32678448\n",
      "  0.245396   0.05882702 0.         0.         0.         0.\n",
      "  0.         0.         0.         0.        ]\n",
      " [0.         0.         0.         0.         0.         0.\n",
      "  0.         0.         0.         0.         0.         0.\n",
      "  0.         0.         0.         0.02333517 0.12857881 0.32549285\n",
      "  0.41390126 0.40743158 0.         0.         0.         0.\n",
      "  0.         0.         0.         0.        ]\n",
      " [0.         0.         0.         0.         0.         0.\n",
      "  0.         0.         0.         0.         0.         0.\n",
      "  0.         0.         0.         0.         0.         0.32161793\n",
      "  0.41390126 0.54251585 0.20001074 0.         0.         0.\n",
      "  0.         0.         0.         0.        ]\n",
      " [0.         0.         0.         0.         0.         0.\n",
      "  0.         0.         0.         0.         0.         0.\n",
      "  0.         0.         0.06697006 0.18959827 0.25300993 0.32678448\n",
      "  0.41390126 0.45100715 0.00625034 0.         0.         0.\n",
      "  0.         0.         0.         0.        ]\n",
      " [0.         0.         0.         0.         0.         0.\n",
      "  0.         0.         0.         0.         0.         0.\n",
      "  0.05110617 0.19182076 0.33339444 0.3689874  0.34978968 0.32678448\n",
      "  0.40899334 0.39653769 0.         0.         0.         0.\n",
      "  0.         0.         0.         0.        ]\n",
      " [0.         0.         0.         0.         0.         0.\n",
      "  0.         0.         0.         0.         0.04117838 0.16813739\n",
      "  0.28960162 0.32790981 0.36833534 0.3689874  0.34978968 0.25961929\n",
      "  0.12760592 0.         0.         0.         0.         0.\n",
      "  0.         0.         0.         0.        ]\n",
      " [0.         0.         0.         0.         0.         0.\n",
      "  0.         0.         0.04431706 0.11961607 0.36545809 0.37314701\n",
      "  0.33153488 0.32790981 0.36833534 0.28877275 0.111988   0.00258328\n",
      "  0.         0.         0.         0.         0.         0.\n",
      "  0.         0.         0.         0.        ]\n",
      " [0.         0.         0.         0.         0.         0.\n",
      "  0.05298497 0.42752138 0.4219755  0.45852825 0.43408872 0.37314701\n",
      "  0.33153488 0.25273681 0.11646967 0.01312603 0.         0.\n",
      "  0.         0.         0.         0.         0.         0.\n",
      "  0.         0.         0.         0.        ]\n",
      " [0.         0.         0.         0.         0.37491383 0.56222061\n",
      "  0.66525569 0.63253163 0.48748768 0.45852825 0.43408872 0.359873\n",
      "  0.17428513 0.01425695 0.         0.         0.         0.\n",
      "  0.         0.         0.         0.         0.         0.\n",
      "  0.         0.         0.         0.        ]\n",
      " [0.         0.         0.         0.         0.92705966 0.82698729\n",
      "  0.74473314 0.63253163 0.4084877  0.24466922 0.22648107 0.02359823\n",
      "  0.         0.         0.         0.         0.         0.\n",
      "  0.         0.         0.         0.         0.         0.\n",
      "  0.         0.         0.         0.        ]\n",
      " [0.         0.         0.         0.         0.         0.\n",
      "  0.         0.         0.         0.         0.         0.\n",
      "  0.         0.         0.         0.         0.         0.\n",
      "  0.         0.         0.         0.         0.         0.\n",
      "  0.         0.         0.         0.        ]\n",
      " [0.         0.         0.         0.         0.         0.\n",
      "  0.         0.         0.         0.         0.         0.\n",
      "  0.         0.         0.         0.         0.         0.\n",
      "  0.         0.         0.         0.         0.         0.\n",
      "  0.         0.         0.         0.        ]\n",
      " [0.         0.         0.         0.         0.         0.\n",
      "  0.         0.         0.         0.         0.         0.\n",
      "  0.         0.         0.         0.         0.         0.\n",
      "  0.         0.         0.         0.         0.         0.\n",
      "  0.         0.         0.         0.        ]]\n"
     ]
    }
   ],
   "source": [
    "print(x_train[0])"
   ]
  },
  {
   "cell_type": "code",
   "execution_count": 13,
   "id": "02db7182-a5ce-477d-b138-2f7501032ef8",
   "metadata": {},
   "outputs": [
    {
     "name": "stdout",
     "output_type": "stream",
     "text": [
      "5\n"
     ]
    }
   ],
   "source": [
    "print(y_train[0]) ##just to check the labels inside our network"
   ]
  },
  {
   "cell_type": "markdown",
   "id": "597f8365-d30c-4bc5-ad08-a78c963693d8",
   "metadata": {},
   "source": [
    "RESIZING IMAGE TO MAKE IT SUITABLE FOE APPLY CONVOLUTION OPERATIONS"
   ]
  },
  {
   "cell_type": "code",
   "execution_count": 16,
   "id": "df8a6767-935a-497c-8223-1cac16dd76e4",
   "metadata": {},
   "outputs": [
    {
     "name": "stdout",
     "output_type": "stream",
     "text": [
      "Traing Samples Dimensions (60000, 28, 28, 1)\n",
      "Traing Samples Dimensions (10000, 28, 28, 1)\n"
     ]
    }
   ],
   "source": [
    "IMG_SIZE=28\n",
    "x_trainr = np.array(x_train).reshape(-1 , IMG_SIZE , IMG_SIZE , 1)##increasing one dimension for kernel operation\n",
    "x_testr=np.array(x_test).reshape(-1 , IMG_SIZE , IMG_SIZE , 1)##increasing one dimension for kernel operation\n",
    "print(\"Traing Samples Dimensions\", x_trainr.shape)\n",
    "print(\"Traing Samples Dimensions\", x_testr.shape)"
   ]
  },
  {
   "cell_type": "markdown",
   "id": "e43725ef-cd23-428b-a64b-bd5e01ffbe5a",
   "metadata": {},
   "source": [
    "CREATING DEEP LEARNING ARCHITECTURE"
   ]
  },
  {
   "cell_type": "code",
   "execution_count": 22,
   "id": "06e4f23c-242a-4a86-87aa-d9313207a2fc",
   "metadata": {},
   "outputs": [],
   "source": [
    "### creating a neural network \n",
    "from tensorflow.keras.layers import Conv2D, MaxPooling2D, Flatten, Dense ,Activation , Dropout\n",
    "model = Sequential()\n",
    "## first convolution  layer (60000,28,28,1) 28-3+1 = 26 x 26\n",
    "model.add(Conv2D(64,(3,3),input_shape = x_trainr.shape[1:]))## only for first convolution layer to mention input layer size\n",
    "model.add(Activation(\"relu\"))## activation function to make it non linear ,<0,remove,>0\n",
    "model.add(MaxPooling2D(pool_size=(2,2)))## Maxpooling\n",
    "## second convolution layer\n",
    "model.add(Conv2D(64,(3,3)))## 2nd convolution layer 26-3+1 = 24 x 24\n",
    "model.add(Activation(\"relu\"))## activation function \n",
    "model.add(MaxPooling2D(pool_size=(2,2)))## Maxpooling\n",
    "## thhird convolution layer  24 x 24\n",
    "model.add(Conv2D(64,(3,3)))## 3rd convolution layer\n",
    "model.add(Activation(\"relu\"))## activation function \n",
    "model.add(MaxPooling2D(pool_size=(2,2)))## Maxpooling\n",
    "## Fully connected layer # 1 20 x 20 = 400\n",
    "model.add(Flatten()) ## before using fully connected layer need to be flatten so that 20 to 10\n",
    "model.add(Dense(64))\n",
    "model.add(Activation(\"relu\"))\n",
    "## fully connected layer #2\n",
    "model.add(Dense(32))\n",
    "model.add(Activation(\"relu\"))\n",
    "## last fully connected layer , output must be equal to number of classes , 10(0-9)\n",
    "model.add(Dense(10)) ## this last dense layer must be equal to 10\n",
    "model.add(Activation('softmax'))\n"
   ]
  },
  {
   "cell_type": "code",
   "execution_count": 23,
   "id": "5ffa89b4-811c-4151-8c5e-eaf3bf51abe3",
   "metadata": {},
   "outputs": [
    {
     "name": "stdout",
     "output_type": "stream",
     "text": [
      "Model: \"sequential_3\"\n",
      "_________________________________________________________________\n",
      " Layer (type)                Output Shape              Param #   \n",
      "=================================================================\n",
      " conv2d_5 (Conv2D)           (None, 26, 26, 64)        640       \n",
      "                                                                 \n",
      " activation_3 (Activation)   (None, 26, 26, 64)        0         \n",
      "                                                                 \n",
      " max_pooling2d_3 (MaxPoolin  (None, 13, 13, 64)        0         \n",
      " g2D)                                                            \n",
      "                                                                 \n",
      " conv2d_6 (Conv2D)           (None, 11, 11, 64)        36928     \n",
      "                                                                 \n",
      " activation_4 (Activation)   (None, 11, 11, 64)        0         \n",
      "                                                                 \n",
      " max_pooling2d_4 (MaxPoolin  (None, 5, 5, 64)          0         \n",
      " g2D)                                                            \n",
      "                                                                 \n",
      " conv2d_7 (Conv2D)           (None, 3, 3, 64)          36928     \n",
      "                                                                 \n",
      " activation_5 (Activation)   (None, 3, 3, 64)          0         \n",
      "                                                                 \n",
      " max_pooling2d_5 (MaxPoolin  (None, 1, 1, 64)          0         \n",
      " g2D)                                                            \n",
      "                                                                 \n",
      " flatten (Flatten)           (None, 64)                0         \n",
      "                                                                 \n",
      " dense (Dense)               (None, 64)                4160      \n",
      "                                                                 \n",
      " activation_6 (Activation)   (None, 64)                0         \n",
      "                                                                 \n",
      " dense_1 (Dense)             (None, 32)                2080      \n",
      "                                                                 \n",
      " activation_7 (Activation)   (None, 32)                0         \n",
      "                                                                 \n",
      " dense_2 (Dense)             (None, 10)                330       \n",
      "                                                                 \n",
      " activation_8 (Activation)   (None, 10)                0         \n",
      "                                                                 \n",
      "=================================================================\n",
      "Total params: 81066 (316.66 KB)\n",
      "Trainable params: 81066 (316.66 KB)\n",
      "Non-trainable params: 0 (0.00 Byte)\n",
      "_________________________________________________________________\n"
     ]
    }
   ],
   "source": [
    "model.summary()"
   ]
  },
  {
   "cell_type": "code",
   "execution_count": 24,
   "id": "642b7639-a8f5-4ba0-b5ed-b713b33ac42d",
   "metadata": {},
   "outputs": [
    {
     "name": "stdout",
     "output_type": "stream",
     "text": [
      "Total Traing Samples =  60000\n"
     ]
    }
   ],
   "source": [
    "print(\"Total Traing Samples = \" , len(x_trainr))"
   ]
  },
  {
   "cell_type": "code",
   "execution_count": 26,
   "id": "7ad146b0-0e19-4565-a026-f6275c698b33",
   "metadata": {},
   "outputs": [],
   "source": [
    "model.compile(loss=\"sparse_categorical_crossentropy\", optimizer= \"adam\" , metrics=['accuracy'])"
   ]
  },
  {
   "cell_type": "code",
   "execution_count": 27,
   "id": "0aae847c-47f0-4c0d-bb97-b62df21765c1",
   "metadata": {},
   "outputs": [
    {
     "name": "stdout",
     "output_type": "stream",
     "text": [
      "Epoch 1/5\n",
      "1313/1313 [==============================] - 78s 58ms/step - loss: 0.3223 - accuracy: 0.9003 - val_loss: 0.1328 - val_accuracy: 0.9578\n",
      "Epoch 2/5\n",
      "1313/1313 [==============================] - 75s 57ms/step - loss: 0.1060 - accuracy: 0.9676 - val_loss: 0.1045 - val_accuracy: 0.9683\n",
      "Epoch 3/5\n",
      "1313/1313 [==============================] - 78s 60ms/step - loss: 0.0745 - accuracy: 0.9774 - val_loss: 0.0853 - val_accuracy: 0.9743\n",
      "Epoch 4/5\n",
      "1313/1313 [==============================] - 82s 62ms/step - loss: 0.0588 - accuracy: 0.9817 - val_loss: 0.0817 - val_accuracy: 0.9747\n",
      "Epoch 5/5\n",
      "1313/1313 [==============================] - 79s 60ms/step - loss: 0.0491 - accuracy: 0.9847 - val_loss: 0.0843 - val_accuracy: 0.9740\n"
     ]
    },
    {
     "data": {
      "text/plain": [
       "<keras.src.callbacks.History at 0x1d1ac2569b0>"
      ]
     },
     "execution_count": 27,
     "metadata": {},
     "output_type": "execute_result"
    }
   ],
   "source": [
    "model.fit(x_trainr,y_train,epochs=5 , validation_split = 0.3)## traing my model"
   ]
  },
  {
   "cell_type": "code",
   "execution_count": 30,
   "id": "05c4ce0e-5557-4ee4-a0cf-28c67806c92e",
   "metadata": {},
   "outputs": [
    {
     "name": "stdout",
     "output_type": "stream",
     "text": [
      "313/313 [==============================] - 5s 15ms/step - loss: 0.0853 - accuracy: 0.9757\n",
      "Test loss on 10,000 test samples  0.08533936738967896\n",
      "Validation Accuracy on 10,000 test samples  0.9757000207901001\n"
     ]
    }
   ],
   "source": [
    "## Evaluating  on testing dataset MNIST\n",
    "test_loss , test_acc = model.evaluate(x_testr , y_test)\n",
    "print(\"Test loss on 10,000 test samples \", test_loss)\n",
    "print(\"Validation Accuracy on 10,000 test samples \", test_acc)"
   ]
  },
  {
   "cell_type": "code",
   "execution_count": 31,
   "id": "acdc68c8-f390-44bf-b07f-a2e4b01101fb",
   "metadata": {},
   "outputs": [
    {
     "name": "stdout",
     "output_type": "stream",
     "text": [
      "313/313 [==============================] - 5s 15ms/step\n"
     ]
    }
   ],
   "source": [
    "## prediction \n",
    "predictions = model.predict([x_testr])"
   ]
  },
  {
   "cell_type": "code",
   "execution_count": 32,
   "id": "1fad47aa-b441-4f00-aa60-2f76fe0a231f",
   "metadata": {},
   "outputs": [
    {
     "name": "stdout",
     "output_type": "stream",
     "text": [
      "[[1.0901000e-11 3.6297827e-06 7.1087761e-08 ... 9.9999607e-01\n",
      "  4.8223914e-09 8.2609759e-09]\n",
      " [3.4035733e-05 1.1331042e-05 9.9986899e-01 ... 6.3559164e-05\n",
      "  4.7440667e-06 2.2050242e-06]\n",
      " [3.6663596e-07 9.9993873e-01 3.2191629e-06 ... 1.5390346e-05\n",
      "  1.1117064e-05 2.8463398e-07]\n",
      " ...\n",
      " [5.7647219e-07 3.7366995e-06 1.0260525e-05 ... 2.9938788e-06\n",
      "  6.6167791e-05 2.6215729e-04]\n",
      " [2.5545623e-07 3.7162815e-07 2.3141622e-11 ... 1.7071183e-07\n",
      "  1.2378219e-04 1.4458826e-08]\n",
      " [2.3875858e-05 5.0074472e-05 4.4030163e-05 ... 1.3619099e-05\n",
      "  3.9471811e-04 1.4944544e-06]]\n"
     ]
    }
   ],
   "source": [
    "print(predictions)"
   ]
  },
  {
   "cell_type": "code",
   "execution_count": 34,
   "id": "5de61c5a-6199-4784-b2d7-bd3f19345a99",
   "metadata": {},
   "outputs": [
    {
     "data": {
      "text/plain": [
       "<matplotlib.image.AxesImage at 0x1d1aebcf730>"
      ]
     },
     "execution_count": 34,
     "metadata": {},
     "output_type": "execute_result"
    },
    {
     "data": {
      "image/png": "[encoded data removed]",
      "text/plain": [
       "<Figure size 640x480 with 1 Axes>"
      ]
     },
     "metadata": {},
     "output_type": "display_data"
    }
   ],
   "source": [
    "plt.imshow(x_test[129])"
   ]
  },
  {
   "cell_type": "code",
   "execution_count": 35,
   "id": "a6521967-89ce-4a7e-bd24-44815fbd2c62",
   "metadata": {},
   "outputs": [
    {
     "data": {
      "text/plain": [
       "<matplotlib.image.AxesImage at 0x1d1aec4a8c0>"
      ]
     },
     "execution_count": 35,
     "metadata": {},
     "output_type": "execute_result"
    },
    {
     "data": {
      "image/png": "[encoded data removed]",
      "text/plain": [
       "<Figure size 640x480 with 1 Axes>"
      ]
     },
     "metadata": {},
     "output_type": "display_data"
    }
   ],
   "source": [
    "plt.imshow(x_test[12])"
   ]
  },
  {
   "cell_type": "code",
   "execution_count": null,
   "id": "2e0ea47e-0980-40a2-955b-132719fa6f1a",
   "metadata": {},
   "outputs": [],
   "source": []
  }
 ],
 "metadata": {
  "kernelspec": {
   "display_name": "Python 3 (ipykernel)",
   "language": "python",
   "name": "python3"
  },
  "language_info": {
   "codemirror_mode": {
    "name": "ipython",
    "version": 3
   },
   "file_extension": ".py",
   "mimetype": "text/x-python",
   "name": "python",
   "nbconvert_exporter": "python",
   "pygments_lexer": "ipython3",
   "version": "3.10.9"
  }
 },
 "nbformat": 4,
 "nbformat_minor": 5
}
